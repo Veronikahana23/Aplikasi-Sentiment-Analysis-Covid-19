{
 "cells": [
  {
   "cell_type": "code",
   "execution_count": 15,
   "metadata": {},
   "outputs": [],
   "source": [
    "# Libraries\n",
    "from nltk.util import pr\n",
    "import pandas as pd #Untuk mengimport data/file (csv, dll) dari sumber luar\n",
    "import numpy as np #mengelola komputasi matrix\n",
    "import re #reguler expression\n",
    "import matplotlib.pyplot as plt #persentasi data berupa grafik/plot\n",
    "import string\n",
    "from textblob import TextBlob\n",
    "from bs4 import BeautifulSoup\n",
    "import nltk\n",
    "from nltk.corpus import stopwords\n",
    "from nltk import word_tokenize\n",
    "from Sastrawi.Stemmer.StemmerFactory import StemmerFactory\n",
    "import re"
   ]
  },
  {
   "cell_type": "code",
   "execution_count": 16,
   "metadata": {},
   "outputs": [
    {
     "data": {
      "text/html": [
       "<div>\n",
       "<style scoped>\n",
       "    .dataframe tbody tr th:only-of-type {\n",
       "        vertical-align: middle;\n",
       "    }\n",
       "\n",
       "    .dataframe tbody tr th {\n",
       "        vertical-align: top;\n",
       "    }\n",
       "\n",
       "    .dataframe thead th {\n",
       "        text-align: right;\n",
       "    }\n",
       "</style>\n",
       "<table border=\"1\" class=\"dataframe\">\n",
       "  <thead>\n",
       "    <tr style=\"text-align: right;\">\n",
       "      <th></th>\n",
       "      <th>username</th>\n",
       "      <th>text</th>\n",
       "      <th>label</th>\n",
       "    </tr>\n",
       "  </thead>\n",
       "  <tbody>\n",
       "    <tr>\n",
       "      <th>0</th>\n",
       "      <td>akhmad Zubaeri</td>\n",
       "      <td>Repot .!untuk orang miskin kayak saya yang ker...</td>\n",
       "      <td>negatif</td>\n",
       "    </tr>\n",
       "    <tr>\n",
       "      <th>1</th>\n",
       "      <td>Amin Udin</td>\n",
       "      <td>Stiap desa kasih relawan dan alat tes .pak aga...</td>\n",
       "      <td>positif</td>\n",
       "    </tr>\n",
       "    <tr>\n",
       "      <th>2</th>\n",
       "      <td>Amin Udin</td>\n",
       "      <td>kesadaran masyarakat yang rendah tapi yg di sa...</td>\n",
       "      <td>negatif</td>\n",
       "    </tr>\n",
       "    <tr>\n",
       "      <th>3</th>\n",
       "      <td>Amin Udin</td>\n",
       "      <td>pengen hidup normal lagi</td>\n",
       "      <td>netral</td>\n",
       "    </tr>\n",
       "    <tr>\n",
       "      <th>4</th>\n",
       "      <td>Sarip sarip</td>\n",
       "      <td>Lockdown cepat, lambat banget kerjanya pemerintah</td>\n",
       "      <td>negatif</td>\n",
       "    </tr>\n",
       "  </tbody>\n",
       "</table>\n",
       "</div>"
      ],
      "text/plain": [
       "         username                                               text    label\n",
       "0  akhmad Zubaeri  Repot .!untuk orang miskin kayak saya yang ker...  negatif\n",
       "1       Amin Udin  Stiap desa kasih relawan dan alat tes .pak aga...  positif\n",
       "2       Amin Udin  kesadaran masyarakat yang rendah tapi yg di sa...  negatif\n",
       "3       Amin Udin                           pengen hidup normal lagi   netral\n",
       "4     Sarip sarip  Lockdown cepat, lambat banget kerjanya pemerintah  negatif"
      ]
     },
     "execution_count": 16,
     "metadata": {},
     "output_type": "execute_result"
    }
   ],
   "source": [
    "data = pd.read_csv('C:/Users/sinag/belajar/dataset_fix.csv', sep = ',', encoding ='utf-8')\n",
    "data.head()"
   ]
  },
  {
   "cell_type": "code",
   "execution_count": 17,
   "metadata": {},
   "outputs": [
    {
     "data": {
      "text/plain": [
       "(1414, 3)"
      ]
     },
     "execution_count": 17,
     "metadata": {},
     "output_type": "execute_result"
    }
   ],
   "source": [
    "data.shape"
   ]
  },
  {
   "cell_type": "code",
   "execution_count": 18,
   "metadata": {},
   "outputs": [
    {
     "data": {
      "text/html": [
       "<div>\n",
       "<style scoped>\n",
       "    .dataframe tbody tr th:only-of-type {\n",
       "        vertical-align: middle;\n",
       "    }\n",
       "\n",
       "    .dataframe tbody tr th {\n",
       "        vertical-align: top;\n",
       "    }\n",
       "\n",
       "    .dataframe thead th {\n",
       "        text-align: right;\n",
       "    }\n",
       "</style>\n",
       "<table border=\"1\" class=\"dataframe\">\n",
       "  <thead>\n",
       "    <tr style=\"text-align: right;\">\n",
       "      <th></th>\n",
       "      <th>username</th>\n",
       "      <th>text</th>\n",
       "      <th>label</th>\n",
       "    </tr>\n",
       "  </thead>\n",
       "  <tbody>\n",
       "    <tr>\n",
       "      <th>634</th>\n",
       "      <td>ari iku jenengq</td>\n",
       "      <td>Ambil aja positif nya kalo gak begini, sampe k...</td>\n",
       "      <td>negatif</td>\n",
       "    </tr>\n",
       "    <tr>\n",
       "      <th>265</th>\n",
       "      <td>Soni Sunarya</td>\n",
       "      <td>Mendingan demo aja atau pilkada pasti covid se...</td>\n",
       "      <td>negatif</td>\n",
       "    </tr>\n",
       "    <tr>\n",
       "      <th>474</th>\n",
       "      <td>Febri Ragiel</td>\n",
       "      <td>pak kami sudah penganguran karna di phk perusa...</td>\n",
       "      <td>negatif</td>\n",
       "    </tr>\n",
       "    <tr>\n",
       "      <th>248</th>\n",
       "      <td>Arfino Fino</td>\n",
       "      <td>Virus ini kalo blm ganti persiden blm akan hab...</td>\n",
       "      <td>negatif</td>\n",
       "    </tr>\n",
       "    <tr>\n",
       "      <th>1264</th>\n",
       "      <td>Hayati Bayu</td>\n",
       "      <td>org  Indonesia  ngeyel  dan  maunya  Instan......</td>\n",
       "      <td>positif</td>\n",
       "    </tr>\n",
       "  </tbody>\n",
       "</table>\n",
       "</div>"
      ],
      "text/plain": [
       "             username                                               text  \\\n",
       "634   ari iku jenengq  Ambil aja positif nya kalo gak begini, sampe k...   \n",
       "265      Soni Sunarya  Mendingan demo aja atau pilkada pasti covid se...   \n",
       "474      Febri Ragiel  pak kami sudah penganguran karna di phk perusa...   \n",
       "248       Arfino Fino  Virus ini kalo blm ganti persiden blm akan hab...   \n",
       "1264      Hayati Bayu  org  Indonesia  ngeyel  dan  maunya  Instan......   \n",
       "\n",
       "        label  \n",
       "634   negatif  \n",
       "265   negatif  \n",
       "474   negatif  \n",
       "248   negatif  \n",
       "1264  positif  "
      ]
     },
     "execution_count": 18,
     "metadata": {},
     "output_type": "execute_result"
    }
   ],
   "source": [
    "data.sample(5)"
   ]
  },
  {
   "cell_type": "code",
   "execution_count": 19,
   "metadata": {},
   "outputs": [
    {
     "data": {
      "text/html": [
       "<div>\n",
       "<style scoped>\n",
       "    .dataframe tbody tr th:only-of-type {\n",
       "        vertical-align: middle;\n",
       "    }\n",
       "\n",
       "    .dataframe tbody tr th {\n",
       "        vertical-align: top;\n",
       "    }\n",
       "\n",
       "    .dataframe thead th {\n",
       "        text-align: right;\n",
       "    }\n",
       "</style>\n",
       "<table border=\"1\" class=\"dataframe\">\n",
       "  <thead>\n",
       "    <tr style=\"text-align: right;\">\n",
       "      <th></th>\n",
       "      <th>username</th>\n",
       "      <th>text</th>\n",
       "      <th>label</th>\n",
       "    </tr>\n",
       "  </thead>\n",
       "  <tbody>\n",
       "    <tr>\n",
       "      <th>count</th>\n",
       "      <td>1414</td>\n",
       "      <td>1414</td>\n",
       "      <td>1414</td>\n",
       "    </tr>\n",
       "    <tr>\n",
       "      <th>unique</th>\n",
       "      <td>1300</td>\n",
       "      <td>1411</td>\n",
       "      <td>3</td>\n",
       "    </tr>\n",
       "    <tr>\n",
       "      <th>top</th>\n",
       "      <td>Sherly Deviana</td>\n",
       "      <td>Omong kosong</td>\n",
       "      <td>negatif</td>\n",
       "    </tr>\n",
       "    <tr>\n",
       "      <th>freq</th>\n",
       "      <td>13</td>\n",
       "      <td>3</td>\n",
       "      <td>727</td>\n",
       "    </tr>\n",
       "  </tbody>\n",
       "</table>\n",
       "</div>"
      ],
      "text/plain": [
       "              username          text    label\n",
       "count             1414          1414     1414\n",
       "unique            1300          1411        3\n",
       "top     Sherly Deviana  Omong kosong  negatif\n",
       "freq                13             3      727"
      ]
     },
     "execution_count": 19,
     "metadata": {},
     "output_type": "execute_result"
    }
   ],
   "source": [
    "data.describe()"
   ]
  },
  {
   "cell_type": "code",
   "execution_count": 20,
   "metadata": {},
   "outputs": [
    {
     "data": {
      "text/plain": [
       "negatif    727\n",
       "netral     392\n",
       "positif    295\n",
       "Name: label, dtype: int64"
      ]
     },
     "execution_count": 20,
     "metadata": {},
     "output_type": "execute_result"
    }
   ],
   "source": [
    "data['label'].value_counts()"
   ]
  },
  {
   "cell_type": "code",
   "execution_count": 21,
   "metadata": {},
   "outputs": [],
   "source": [
    "import re\n",
    "from bs4 import BeautifulSoup\n",
    "from nltk.tokenize import WordPunctTokenizer\n",
    "\n",
    "tokenizer = WordPunctTokenizer()\n",
    "twitter_handle = r'@[A-Za-z0-9_]+'                         # remove twitter handle (@username)\n",
    "url_handle = r'http[^ ]+'                                  # remove website URLs that start with 'https?://'\n",
    "combined_handle = r'|'.join((twitter_handle, url_handle))  # join\n",
    "www_handle = r'www.[^ ]+'                                  # remove website URLs that start with 'www.'\n",
    "punctuation_handle = r'\\W+'"
   ]
  },
  {
   "cell_type": "code",
   "execution_count": 22,
   "metadata": {},
   "outputs": [
    {
     "data": {
      "text/html": [
       "<div>\n",
       "<style scoped>\n",
       "    .dataframe tbody tr th:only-of-type {\n",
       "        vertical-align: middle;\n",
       "    }\n",
       "\n",
       "    .dataframe tbody tr th {\n",
       "        vertical-align: top;\n",
       "    }\n",
       "\n",
       "    .dataframe thead th {\n",
       "        text-align: right;\n",
       "    }\n",
       "</style>\n",
       "<table border=\"1\" class=\"dataframe\">\n",
       "  <thead>\n",
       "    <tr style=\"text-align: right;\">\n",
       "      <th></th>\n",
       "      <th>untuk</th>\n",
       "    </tr>\n",
       "  </thead>\n",
       "  <tbody>\n",
       "    <tr>\n",
       "      <th>0</th>\n",
       "      <td>apa</td>\n",
       "    </tr>\n",
       "    <tr>\n",
       "      <th>1</th>\n",
       "      <td>aja</td>\n",
       "    </tr>\n",
       "    <tr>\n",
       "      <th>2</th>\n",
       "      <td>allamin</td>\n",
       "    </tr>\n",
       "    <tr>\n",
       "      <th>3</th>\n",
       "      <td>nya</td>\n",
       "    </tr>\n",
       "    <tr>\n",
       "      <th>4</th>\n",
       "      <td>di</td>\n",
       "    </tr>\n",
       "    <tr>\n",
       "      <th>...</th>\n",
       "      <td>...</td>\n",
       "    </tr>\n",
       "    <tr>\n",
       "      <th>360</th>\n",
       "      <td>stelah</td>\n",
       "    </tr>\n",
       "    <tr>\n",
       "      <th>361</th>\n",
       "      <td>sejenak</td>\n",
       "    </tr>\n",
       "    <tr>\n",
       "      <th>362</th>\n",
       "      <td>hanya</td>\n",
       "    </tr>\n",
       "    <tr>\n",
       "      <th>363</th>\n",
       "      <td>wakakakaka</td>\n",
       "    </tr>\n",
       "    <tr>\n",
       "      <th>364</th>\n",
       "      <td>yarobbal</td>\n",
       "    </tr>\n",
       "  </tbody>\n",
       "</table>\n",
       "<p>365 rows × 1 columns</p>\n",
       "</div>"
      ],
      "text/plain": [
       "          untuk\n",
       "0           apa\n",
       "1           aja\n",
       "2       allamin\n",
       "3           nya\n",
       "4            di\n",
       "..          ...\n",
       "360      stelah\n",
       "361     sejenak\n",
       "362       hanya\n",
       "363  wakakakaka\n",
       "364    yarobbal\n",
       "\n",
       "[365 rows x 1 columns]"
      ]
     },
     "execution_count": 22,
     "metadata": {},
     "output_type": "execute_result"
    }
   ],
   "source": [
    "stopwords = pd.read_csv('C:/Users/sinag/belajar/stopwords.txt', sep = ',', encoding ='utf-8')\n",
    "stopwords"
   ]
  },
  {
   "cell_type": "code",
   "execution_count": 24,
   "metadata": {},
   "outputs": [
    {
     "data": {
      "text/html": [
       "<div>\n",
       "<style scoped>\n",
       "    .dataframe tbody tr th:only-of-type {\n",
       "        vertical-align: middle;\n",
       "    }\n",
       "\n",
       "    .dataframe tbody tr th {\n",
       "        vertical-align: top;\n",
       "    }\n",
       "\n",
       "    .dataframe thead th {\n",
       "        text-align: right;\n",
       "    }\n",
       "</style>\n",
       "<table border=\"1\" class=\"dataframe\">\n",
       "  <thead>\n",
       "    <tr style=\"text-align: right;\">\n",
       "      <th></th>\n",
       "      <th>username</th>\n",
       "      <th>text</th>\n",
       "      <th>label</th>\n",
       "    </tr>\n",
       "  </thead>\n",
       "  <tbody>\n",
       "    <tr>\n",
       "      <th>0</th>\n",
       "      <td>akhmad Zubaeri</td>\n",
       "      <td>Repot .!untuk orang miskin kayak saya yang ker...</td>\n",
       "      <td>negatif</td>\n",
       "    </tr>\n",
       "    <tr>\n",
       "      <th>1</th>\n",
       "      <td>Amin Udin</td>\n",
       "      <td>Stiap desa kasih relawan dan alat tes .pak aga...</td>\n",
       "      <td>positif</td>\n",
       "    </tr>\n",
       "    <tr>\n",
       "      <th>2</th>\n",
       "      <td>Amin Udin</td>\n",
       "      <td>kesadaran masyarakat yang rendah tapi yg di sa...</td>\n",
       "      <td>negatif</td>\n",
       "    </tr>\n",
       "    <tr>\n",
       "      <th>3</th>\n",
       "      <td>Amin Udin</td>\n",
       "      <td>pengen hidup normal lagi</td>\n",
       "      <td>netral</td>\n",
       "    </tr>\n",
       "    <tr>\n",
       "      <th>4</th>\n",
       "      <td>Sarip sarip</td>\n",
       "      <td>Lockdown cepat, lambat banget kerjanya pemerintah</td>\n",
       "      <td>negatif</td>\n",
       "    </tr>\n",
       "    <tr>\n",
       "      <th>...</th>\n",
       "      <td>...</td>\n",
       "      <td>...</td>\n",
       "      <td>...</td>\n",
       "    </tr>\n",
       "    <tr>\n",
       "      <th>95</th>\n",
       "      <td>naibin009</td>\n",
       "      <td>Yg perlu kita sesali itu kenapa pemimpin kita ...</td>\n",
       "      <td>negatif</td>\n",
       "    </tr>\n",
       "    <tr>\n",
       "      <th>96</th>\n",
       "      <td>Pejuang Tunas</td>\n",
       "      <td>Ijin bagi info dong Gan, yg sudah Positif Meni...</td>\n",
       "      <td>netral</td>\n",
       "    </tr>\n",
       "    <tr>\n",
       "      <th>97</th>\n",
       "      <td>Zadista Zadista</td>\n",
       "      <td>Udah baik pak jokowi tapi rakyat nya masih kur...</td>\n",
       "      <td>positif</td>\n",
       "    </tr>\n",
       "    <tr>\n",
       "      <th>98</th>\n",
       "      <td>Dicky DK</td>\n",
       "      <td>Jadi gini klo kita disuruh diam dirumah pemeri...</td>\n",
       "      <td>negatif</td>\n",
       "    </tr>\n",
       "    <tr>\n",
       "      <th>99</th>\n",
       "      <td>Joe1 Coex</td>\n",
       "      <td>Bergeraknya dari bawah jdi penanganan satgas c...</td>\n",
       "      <td>positif</td>\n",
       "    </tr>\n",
       "  </tbody>\n",
       "</table>\n",
       "<p>100 rows × 3 columns</p>\n",
       "</div>"
      ],
      "text/plain": [
       "           username                                               text  \\\n",
       "0    akhmad Zubaeri  Repot .!untuk orang miskin kayak saya yang ker...   \n",
       "1         Amin Udin  Stiap desa kasih relawan dan alat tes .pak aga...   \n",
       "2         Amin Udin  kesadaran masyarakat yang rendah tapi yg di sa...   \n",
       "3         Amin Udin                           pengen hidup normal lagi   \n",
       "4       Sarip sarip  Lockdown cepat, lambat banget kerjanya pemerintah   \n",
       "..              ...                                                ...   \n",
       "95        naibin009  Yg perlu kita sesali itu kenapa pemimpin kita ...   \n",
       "96    Pejuang Tunas  Ijin bagi info dong Gan, yg sudah Positif Meni...   \n",
       "97  Zadista Zadista  Udah baik pak jokowi tapi rakyat nya masih kur...   \n",
       "98         Dicky DK  Jadi gini klo kita disuruh diam dirumah pemeri...   \n",
       "99        Joe1 Coex  Bergeraknya dari bawah jdi penanganan satgas c...   \n",
       "\n",
       "      label  \n",
       "0   negatif  \n",
       "1   positif  \n",
       "2   negatif  \n",
       "3    netral  \n",
       "4   negatif  \n",
       "..      ...  \n",
       "95  negatif  \n",
       "96   netral  \n",
       "97  positif  \n",
       "98  negatif  \n",
       "99  positif  \n",
       "\n",
       "[100 rows x 3 columns]"
      ]
     },
     "execution_count": 24,
     "metadata": {},
     "output_type": "execute_result"
    }
   ],
   "source": [
    "def process_text(text):\n",
    "    soup = BeautifulSoup(text, 'lxml')\n",
    "    souped = soup.get_text()\n",
    "\n",
    "    try:\n",
    "        text = souped.decode(\"utf-8-sig\").replace(u\"\\ufffd\", \"?\")\n",
    "    except:\n",
    "        text = souped\n",
    "\n",
    "    cleaned_text = re.sub(punctuation_handle, \" \",(re.sub(www_handle, '', re.sub(combined_handle, '', text)).lower()))\n",
    "    cleaned_text = ' '.join([word for word in cleaned_text.split() if word not in stopwords])\n",
    "\n",
    "    return (\" \".join([word for word in tokenizer.tokenize(cleaned_text) if len(word) > 1])).strip()\n",
    "data.head(100)"
   ]
  },
  {
   "cell_type": "code",
   "execution_count": 156,
   "metadata": {},
   "outputs": [
    {
     "data": {
      "text/plain": [
       "'repot orang kecil pns enak'"
      ]
     },
     "execution_count": 156,
     "metadata": {},
     "output_type": "execute_result"
    }
   ],
   "source": [
    "example_text = \"Repot .!untuk orang kecil..... PNS enak .,\"\n",
    "\n",
    "process_text(example_text)"
   ]
  },
  {
   "cell_type": "code",
   "execution_count": 157,
   "metadata": {},
   "outputs": [
    {
     "data": {
      "text/html": [
       "<div>\n",
       "<style scoped>\n",
       "    .dataframe tbody tr th:only-of-type {\n",
       "        vertical-align: middle;\n",
       "    }\n",
       "\n",
       "    .dataframe tbody tr th {\n",
       "        vertical-align: top;\n",
       "    }\n",
       "\n",
       "    .dataframe thead th {\n",
       "        text-align: right;\n",
       "    }\n",
       "</style>\n",
       "<table border=\"1\" class=\"dataframe\">\n",
       "  <thead>\n",
       "    <tr style=\"text-align: right;\">\n",
       "      <th></th>\n",
       "      <th>username</th>\n",
       "      <th>text</th>\n",
       "      <th>label</th>\n",
       "      <th>clean_text</th>\n",
       "    </tr>\n",
       "  </thead>\n",
       "  <tbody>\n",
       "    <tr>\n",
       "      <th>0</th>\n",
       "      <td>akhmad Zubaeri</td>\n",
       "      <td>Repot .!untuk orang kecil..... PNS enak .,</td>\n",
       "      <td>0</td>\n",
       "      <td>repot orang kecil pns enak</td>\n",
       "    </tr>\n",
       "    <tr>\n",
       "      <th>1</th>\n",
       "      <td>Amin Udin</td>\n",
       "      <td>Stiap desa kasih relawan dan alat tes .pak aga...</td>\n",
       "      <td>1</td>\n",
       "      <td>stiap desa kasih relawan dan alat tes pak agar...</td>\n",
       "    </tr>\n",
       "    <tr>\n",
       "      <th>2</th>\n",
       "      <td>Sarip sarip</td>\n",
       "      <td>Lokdon Jo</td>\n",
       "      <td>1</td>\n",
       "      <td>lokdon jo</td>\n",
       "    </tr>\n",
       "    <tr>\n",
       "      <th>3</th>\n",
       "      <td>riza alkaff</td>\n",
       "      <td>Sampean kurang cepet pakde., kurang tegas.</td>\n",
       "      <td>0</td>\n",
       "      <td>sampean kurang cepet pakde kurang tegas</td>\n",
       "    </tr>\n",
       "    <tr>\n",
       "      <th>4</th>\n",
       "      <td>sekti tv</td>\n",
       "      <td>Asalamualaikum\\nYg positif corona yg sakit cor...</td>\n",
       "      <td>1</td>\n",
       "      <td>asalamualaikum yg positif corona yg sakit coro...</td>\n",
       "    </tr>\n",
       "  </tbody>\n",
       "</table>\n",
       "</div>"
      ],
      "text/plain": [
       "         username                                               text  label  \\\n",
       "0  akhmad Zubaeri         Repot .!untuk orang kecil..... PNS enak .,      0   \n",
       "1       Amin Udin  Stiap desa kasih relawan dan alat tes .pak aga...      1   \n",
       "2     Sarip sarip                                          Lokdon Jo      1   \n",
       "3     riza alkaff         Sampean kurang cepet pakde., kurang tegas.      0   \n",
       "4        sekti tv  Asalamualaikum\\nYg positif corona yg sakit cor...      1   \n",
       "\n",
       "                                          clean_text  \n",
       "0                         repot orang kecil pns enak  \n",
       "1  stiap desa kasih relawan dan alat tes pak agar...  \n",
       "2                                          lokdon jo  \n",
       "3            sampean kurang cepet pakde kurang tegas  \n",
       "4  asalamualaikum yg positif corona yg sakit coro...  "
      ]
     },
     "execution_count": 157,
     "metadata": {},
     "output_type": "execute_result"
    }
   ],
   "source": [
    "cleaned_text = []\n",
    "\n",
    "for text in data.text:\n",
    "    cleaned_text.append(process_text(text))\n",
    "\n",
    "clean_text = pd.DataFrame({'clean_text' : cleaned_text})\n",
    "data = pd.concat([data, clean_text], axis = 1)\n",
    "data = data[['username', 'text', 'clean_text', 'label']]\n",
    "data.head()"
   ]
  },
  {
   "cell_type": "code",
   "execution_count": 160,
   "metadata": {},
   "outputs": [],
   "source": [
    "from sklearn.model_selection import train_test_split\n",
    "\n",
    "attribute = data.clean_text\n",
    "target = data.label"
   ]
  },
  {
   "cell_type": "code",
   "execution_count": 161,
   "metadata": {},
   "outputs": [
    {
     "name": "stdout",
     "output_type": "stream",
     "text": [
      "attribute_train : 1272\n",
      "attribute_test  : 142\n",
      "target_train : 1272\n",
      "target_test  : 142\n"
     ]
    }
   ],
   "source": [
    "attribute_train, attribute_test, target_train, target_test = train_test_split(attribute, target, test_size = 0.1, random_state = 225)\n",
    "\n",
    "print('attribute_train :', len(attribute_train))\n",
    "print('attribute_test  :', len(attribute_test))\n",
    "print('target_train :', len(target_train))\n",
    "print('target_test  :', len(target_test))"
   ]
  },
  {
   "cell_type": "code",
   "execution_count": null,
   "metadata": {},
   "outputs": [],
   "source": [
    "import collections, numpy\n",
    "from sklearn.model_selection import train_test_split\n",
    "X_train, X_test, y_train, y_test = train_test_split(cos_sim, data_clean['label'], test_size=0.3, random_state=33)\n",
    "print(\"Jumlah Data Uji:\", X_test.shape)\n",
    "print(\"Jumlah Data Latih:\",X_train.shape)"
   ]
  },
  {
   "cell_type": "code",
   "execution_count": 164,
   "metadata": {},
   "outputs": [],
   "source": [
    "from sklearn.feature_extraction.text import TfidfVectorizer\n",
    "from sklearn.linear_model import LogisticRegression\n",
    "\n",
    "tvec = TfidfVectorizer()\n",
    "clf2 = LogisticRegression()"
   ]
  },
  {
   "cell_type": "code",
   "execution_count": 165,
   "metadata": {},
   "outputs": [
    {
     "data": {
      "text/plain": [
       "Pipeline(steps=[('vectorizer', TfidfVectorizer()),\n",
       "                ('classifier', LogisticRegression())])"
      ]
     },
     "execution_count": 165,
     "metadata": {},
     "output_type": "execute_result"
    }
   ],
   "source": [
    "from sklearn.pipeline import Pipeline\n",
    "\n",
    "model = Pipeline([('vectorizer',tvec)\n",
    "                 ,('classifier',clf2)])\n",
    "\n",
    "model.fit(attribute_train, target_train)"
   ]
  },
  {
   "cell_type": "code",
   "execution_count": 166,
   "metadata": {},
   "outputs": [
    {
     "data": {
      "text/plain": [
       "434                strategy terbaik adalah tanpa strategy\n",
       "471     alhamdulillah semenjak komvid usaha saya bangk...\n",
       "687     vaksin virus yg sesungguhnya jadi jangan mau v...\n",
       "1006    semakin lucu saja tindakan dan aturannya pemer...\n",
       "991     bisa nyetop sementara kredit cicilan apa engga...\n",
       "122     semoga bp jokowi slalu dalam lindungan mu ya a...\n",
       "584     glontorkan kemana dananya sy tinggal di kosan ...\n",
       "606     pak aku ngak dapat bantuaan apa apa ngimana ni...\n",
       "310              cnn ini audionya gabisa gedean dikit apa\n",
       "699     covid gak bakal hilang selama nya jd vaksin hr...\n",
       "Name: clean_text, dtype: object"
      ]
     },
     "execution_count": 166,
     "metadata": {},
     "output_type": "execute_result"
    }
   ],
   "source": [
    "attribute_train.head(10)"
   ]
  },
  {
   "cell_type": "code",
   "execution_count": 88,
   "metadata": {},
   "outputs": [
    {
     "name": "stdout",
     "output_type": "stream",
     "text": [
      "hasil\n",
      "                                             clean_text\n",
      "0                strategy terbaik adalah tanpa strategy\n",
      "1     alhamdulillah semenjak komvid usaha saya bangk...\n",
      "2     vaksin virus yg sesungguhnya jadi jangan mau v...\n",
      "3     semakin lucu saja tindakan dan aturannya pemer...\n",
      "4     bisa nyetop sementara kredit cicilan apa engga...\n",
      "...                                                 ...\n",
      "1267  hr gini masi ada ksdrun yg dislike otakny kema...\n",
      "1268                        revisi harap di revisi lagi\n",
      "1269  klo dana nya habis corona nya kabur dong nyari...\n",
      "1270  boro dapat bantuan mudik kagak bisa nasih rant...\n",
      "1271  nyaris juta tapi sekolah gue ngadin pkl sedang...\n",
      "\n",
      "[1272 rows x 1 columns]\n"
     ]
    }
   ],
   "source": [
    "# import hasil preprocessing ke dalam file csv\n",
    "attribute_train.to_csv('C:/Users/sinag/belajar/train.csv', index=False)\n",
    "attribute_train = pd.read_csv('C:/Users/sinag/belajar/train.csv', encoding='latin1')\n",
    "print(\"hasil\")\n",
    "print(attribute_train)"
   ]
  },
  {
   "cell_type": "code",
   "execution_count": 176,
   "metadata": {},
   "outputs": [
    {
     "name": "stdout",
     "output_type": "stream",
     "text": [
      "[0]\n"
     ]
    }
   ],
   "source": [
    "example_text = [\"strategi baik pak\"]\n",
    "example_result = model.predict(example_text)\n",
    "\n",
    "print(example_result)"
   ]
  },
  {
   "cell_type": "code",
   "execution_count": 177,
   "metadata": {},
   "outputs": [
    {
     "data": {
      "text/plain": [
       "array([[65, 27],\n",
       "       [19, 31]], dtype=int64)"
      ]
     },
     "execution_count": 177,
     "metadata": {},
     "output_type": "execute_result"
    }
   ],
   "source": [
    "from sklearn.metrics import confusion_matrix\n",
    "\n",
    "verdict = model.predict(attribute_test)\n",
    "\n",
    "confusion_matrix(verdict, target_test)"
   ]
  },
  {
   "cell_type": "code",
   "execution_count": 178,
   "metadata": {},
   "outputs": [
    {
     "name": "stdout",
     "output_type": "stream",
     "text": [
      "Accuracy :  0.676056338028169\n",
      "Precision :  0.6895395360669765\n",
      "Recall :  0.676056338028169\n"
     ]
    }
   ],
   "source": [
    "from sklearn.metrics import accuracy_score, precision_score, recall_score\n",
    "\n",
    "print(\"Accuracy : \", accuracy_score(verdict, target_test))\n",
    "print(\"Precision : \", precision_score(verdict, target_test, average = 'weighted'))\n",
    "print(\"Recall : \", recall_score(verdict, target_test, average = 'weighted'))"
   ]
  },
  {
   "cell_type": "code",
   "execution_count": null,
   "metadata": {},
   "outputs": [],
   "source": []
  }
 ],
 "metadata": {
  "kernelspec": {
   "display_name": "Python 3 (ipykernel)",
   "language": "python",
   "name": "python3"
  },
  "language_info": {
   "codemirror_mode": {
    "name": "ipython",
    "version": 3
   },
   "file_extension": ".py",
   "mimetype": "text/x-python",
   "name": "python",
   "nbconvert_exporter": "python",
   "pygments_lexer": "ipython3",
   "version": "3.9.7"
  }
 },
 "nbformat": 4,
 "nbformat_minor": 4
}
