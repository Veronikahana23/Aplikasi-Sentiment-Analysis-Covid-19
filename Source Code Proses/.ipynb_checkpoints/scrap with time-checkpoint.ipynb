{
 "cells": [
  {
   "cell_type": "code",
   "execution_count": 15,
   "id": "3eceace7",
   "metadata": {},
   "outputs": [
    {
     "name": "stderr",
     "output_type": "stream",
     "text": [
      "C:\\Users\\sinag\\AppData\\Local\\Temp/ipykernel_7580/2905590569.py:6: DeprecationWarning: executable_path has been deprecated, please pass in a Service object\n",
      "  driver = webdriver.Chrome(r'C:\\Program Files\\Google\\Chrome\\Application\\chromedriver.exe')\n"
     ]
    }
   ],
   "source": [
    "from selenium import webdriver \n",
    "from bs4 import BeautifulSoup as bs\n",
    "import time\n",
    "import pandas as pd\n",
    "#(chromedriver untuk menghubungkan ke google chrome)\n",
    "driver = webdriver.Chrome(r'C:\\Program Files\\Google\\Chrome\\Application\\chromedriver.exe') \n",
    "driver.get('https://www.youtube.com/watch?v=OoGXhrAxF3w') #link berita\n",
    "#untuk scroll/menggulir halaman web \n",
    "driver.execute_script('window.scrollTo(0, document.body.scrollHeight);')\n",
    "time.sleep(200) #lama waktu proses scroll komentar\n",
    "\n",
    "comments_youtube=[]\n",
    "comment_div = driver.find_element(\"xpath\", '//*[@id=\"contents\"]') #xpath untuk memilih bagian tertentu pada web/XML\n",
    "comments = comment_div.find_elements(\"xpath\", '//*[@id=\"content-text\"]')\n",
    "for comment in comments:\n",
    "    comments_youtube.append(comment.text)"
   ]
  },
  {
   "cell_type": "code",
   "execution_count": 16,
   "id": "492bc4ae",
   "metadata": {},
   "outputs": [
    {
     "data": {
      "text/html": [
       "<div>\n",
       "<style scoped>\n",
       "    .dataframe tbody tr th:only-of-type {\n",
       "        vertical-align: middle;\n",
       "    }\n",
       "\n",
       "    .dataframe tbody tr th {\n",
       "        vertical-align: top;\n",
       "    }\n",
       "\n",
       "    .dataframe thead th {\n",
       "        text-align: right;\n",
       "    }\n",
       "</style>\n",
       "<table border=\"1\" class=\"dataframe\">\n",
       "  <thead>\n",
       "    <tr style=\"text-align: right;\">\n",
       "      <th></th>\n",
       "      <th>text</th>\n",
       "    </tr>\n",
       "  </thead>\n",
       "  <tbody>\n",
       "    <tr>\n",
       "      <th>0</th>\n",
       "      <td>“Jika kalian mendengar wabah terjadi di suatu ...</td>\n",
       "    </tr>\n",
       "    <tr>\n",
       "      <th>1</th>\n",
       "      <td>Smoga corona cepat berlalu, Rakyat Indonesia s...</td>\n",
       "    </tr>\n",
       "    <tr>\n",
       "      <th>2</th>\n",
       "      <td>Sy dari malaysia harap2 warga indonesia tidak ...</td>\n",
       "    </tr>\n",
       "    <tr>\n",
       "      <th>3</th>\n",
       "      <td>Hormarilah &amp; berilah Support Bagi pemerintah i...</td>\n",
       "    </tr>\n",
       "    <tr>\n",
       "      <th>4</th>\n",
       "      <td>Semoga Allah menghilangkan penyakit covid ini ...</td>\n",
       "    </tr>\n",
       "  </tbody>\n",
       "</table>\n",
       "</div>"
      ],
      "text/plain": [
       "                                                text\n",
       "0  “Jika kalian mendengar wabah terjadi di suatu ...\n",
       "1  Smoga corona cepat berlalu, Rakyat Indonesia s...\n",
       "2  Sy dari malaysia harap2 warga indonesia tidak ...\n",
       "3  Hormarilah & berilah Support Bagi pemerintah i...\n",
       "4  Semoga Allah menghilangkan penyakit covid ini ..."
      ]
     },
     "execution_count": 16,
     "metadata": {},
     "output_type": "execute_result"
    }
   ],
   "source": [
    "comments_dict = {'text':comments_youtube}\n",
    "data = pd.DataFrame(comments_dict)\n",
    "data.to_csv(r'comment.csv')\n",
    "data.head()"
   ]
  },
  {
   "cell_type": "code",
   "execution_count": 17,
   "id": "02ab739a",
   "metadata": {},
   "outputs": [
    {
     "data": {
      "text/plain": [
       "(321, 1)"
      ]
     },
     "execution_count": 17,
     "metadata": {},
     "output_type": "execute_result"
    }
   ],
   "source": [
    "data.shape"
   ]
  }
 ],
 "metadata": {
  "kernelspec": {
   "display_name": "Python 3 (ipykernel)",
   "language": "python",
   "name": "python3"
  },
  "language_info": {
   "codemirror_mode": {
    "name": "ipython",
    "version": 3
   },
   "file_extension": ".py",
   "mimetype": "text/x-python",
   "name": "python",
   "nbconvert_exporter": "python",
   "pygments_lexer": "ipython3",
   "version": "3.9.7"
  }
 },
 "nbformat": 4,
 "nbformat_minor": 5
}
