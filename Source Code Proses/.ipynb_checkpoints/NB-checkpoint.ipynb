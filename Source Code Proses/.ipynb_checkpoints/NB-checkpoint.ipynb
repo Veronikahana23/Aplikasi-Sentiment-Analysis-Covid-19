{
 "cells": [
  {
   "cell_type": "code",
   "execution_count": 59,
   "metadata": {},
   "outputs": [
    {
     "name": "stderr",
     "output_type": "stream",
     "text": [
      "[nltk_data] Downloading package punkt to\n",
      "[nltk_data]     C:\\Users\\sinag\\AppData\\Roaming\\nltk_data...\n",
      "[nltk_data]   Package punkt is already up-to-date!\n"
     ]
    }
   ],
   "source": [
    "# Libraries\n",
    "from nltk.util import pr\n",
    "import pandas as pd #Untuk mengimport data/file (csv, dll) dari sumber luar\n",
    "import numpy as np #mengelola komputasi matrix\n",
    "import re #reguler expression\n",
    "import matplotlib.pyplot as plt #persentasi data berupa grafik/plot\n",
    "import string\n",
    "from textblob import TextBlob\n",
    "from bs4 import BeautifulSoup\n",
    "import seaborn as sns\n",
    "import nltk\n",
    "nltk.download('punkt')\n",
    "from nltk.corpus import stopwords\n",
    "from nltk import word_tokenize\n",
    "from Sastrawi.Stemmer.StemmerFactory import StemmerFactory\n",
    "import re"
   ]
  },
  {
   "cell_type": "code",
   "execution_count": 60,
   "metadata": {},
   "outputs": [
    {
     "data": {
      "text/html": [
       "<div>\n",
       "<style scoped>\n",
       "    .dataframe tbody tr th:only-of-type {\n",
       "        vertical-align: middle;\n",
       "    }\n",
       "\n",
       "    .dataframe tbody tr th {\n",
       "        vertical-align: top;\n",
       "    }\n",
       "\n",
       "    .dataframe thead th {\n",
       "        text-align: right;\n",
       "    }\n",
       "</style>\n",
       "<table border=\"1\" class=\"dataframe\">\n",
       "  <thead>\n",
       "    <tr style=\"text-align: right;\">\n",
       "      <th></th>\n",
       "      <th>username</th>\n",
       "      <th>text</th>\n",
       "      <th>label</th>\n",
       "    </tr>\n",
       "  </thead>\n",
       "  <tbody>\n",
       "    <tr>\n",
       "      <th>0</th>\n",
       "      <td>akhmad Zubaeri</td>\n",
       "      <td>Repot .!untuk orang miskin kayak saya yang ker...</td>\n",
       "      <td>negatif</td>\n",
       "    </tr>\n",
       "    <tr>\n",
       "      <th>1</th>\n",
       "      <td>Amin Udin</td>\n",
       "      <td>Stiap desa kasih relawan dan alat tes .pak aga...</td>\n",
       "      <td>positif</td>\n",
       "    </tr>\n",
       "    <tr>\n",
       "      <th>2</th>\n",
       "      <td>Amin Udin</td>\n",
       "      <td>kesadaran masyarakat yang rendah tapi yg di sa...</td>\n",
       "      <td>negatif</td>\n",
       "    </tr>\n",
       "    <tr>\n",
       "      <th>3</th>\n",
       "      <td>Amin Udin</td>\n",
       "      <td>pengen hidup normal lagi</td>\n",
       "      <td>netral</td>\n",
       "    </tr>\n",
       "    <tr>\n",
       "      <th>4</th>\n",
       "      <td>Sarip sarip</td>\n",
       "      <td>Lockdown cepat, lambat banget kerjanya pemerintah</td>\n",
       "      <td>negatif</td>\n",
       "    </tr>\n",
       "  </tbody>\n",
       "</table>\n",
       "</div>"
      ],
      "text/plain": [
       "         username                                               text    label\n",
       "0  akhmad Zubaeri  Repot .!untuk orang miskin kayak saya yang ker...  negatif\n",
       "1       Amin Udin  Stiap desa kasih relawan dan alat tes .pak aga...  positif\n",
       "2       Amin Udin  kesadaran masyarakat yang rendah tapi yg di sa...  negatif\n",
       "3       Amin Udin                           pengen hidup normal lagi   netral\n",
       "4     Sarip sarip  Lockdown cepat, lambat banget kerjanya pemerintah  negatif"
      ]
     },
     "execution_count": 60,
     "metadata": {},
     "output_type": "execute_result"
    }
   ],
   "source": [
    "data = pd.read_csv('C:/Users/sinag/belajar/dataset_fix.csv', sep = ',', encoding ='utf-8')\n",
    "data.head()"
   ]
  },
  {
   "cell_type": "code",
   "execution_count": 61,
   "metadata": {},
   "outputs": [],
   "source": [
    "dataset = data.drop(['username'], axis=1, inplace=False)\n",
    "dataset = [tuple(x) for x in dataset.to_records(index=False)]"
   ]
  },
  {
   "cell_type": "code",
   "execution_count": 62,
   "metadata": {},
   "outputs": [],
   "source": [
    "import random\n",
    "\n",
    "set_positif = []\n",
    "set_negatif = []\n",
    "set_netral = []\n",
    "\n",
    "for n in dataset:\n",
    "    if(n[1] == 'positif'):\n",
    "        set_positif.append(n)\n",
    "    if(n[1] == 'negatif'):\n",
    "        set_negatif.append(n)\n",
    "    else:\n",
    "        set_netral.append(n)\n",
    "\n",
    "set_positif = random.sample(set_positif, k=int(len(set_positif)/2))\n",
    "set_negatif = random.sample(set_negatif, k=int(len(set_negatif)/2))\n",
    "set_netral = random.sample(set_netral, k=int(len(set_netral)/2))\n",
    "\n",
    "train = set_positif + set_negatif + set_netral\n",
    "train_set = []\n",
    "\n",
    "for n in train:\n",
    "    train_set.append(n)\n",
    "        "
   ]
  },
  {
   "cell_type": "code",
   "execution_count": 63,
   "metadata": {},
   "outputs": [
    {
     "name": "stdout",
     "output_type": "stream",
     "text": [
      "Akurasi =  0.801980198019802\n"
     ]
    }
   ],
   "source": [
    "from textblob.classifiers import NaiveBayesClassifier\n",
    "from sklearn.tree import DecisionTreeClassifier\n",
    "from sklearn import tree\n",
    "cl = NaiveBayesClassifier(train_set)\n",
    "print('Akurasi = ', cl.accuracy(dataset))"
   ]
  },
  {
   "cell_type": "code",
   "execution_count": null,
   "metadata": {},
   "outputs": [],
   "source": [
    "data_tweet = list(data['text'])\n",
    "polaritas = 0\n",
    "\n",
    "status = []\n",
    "total_positif = total_negatif = total_netral = total = 0\n",
    "\n",
    "for i, tweet in enumerate(data_tweet):\n",
    "    analysis = TextBlob(tweet, classifier=cl)\n",
    "    \n",
    "    if analysis.classify() == 'positif':\n",
    "        total_positif += 1\n",
    "    elif analysis.classify() == 'netral':\n",
    "        total_netral += 1\n",
    "    else:\n",
    "        total_negatif += 1\n",
    "    \n",
    "    status.append(analysis.classify())\n",
    "    total += 1\n",
    "print(f'hasil analisis data:\\npositif = {total_positif}\\nnetral = {total_netral}\\nnegatif = {total_negatif}')\n",
    "print(f'\\ntotal : {total}')"
   ]
  },
  {
   "cell_type": "code",
   "execution_count": null,
   "metadata": {},
   "outputs": [],
   "source": [
    "status = pd.DataFrame({'label_sentimen' : status})\n",
    "data['label_sentimen'] = status\n",
    "data.tail()"
   ]
  },
  {
   "cell_type": "code",
   "execution_count": null,
   "metadata": {},
   "outputs": [],
   "source": [
    "label = ['positif', 'negatif', 'netral']\n",
    "count_data = [total_positif_1, total_negatif+1, total_netral]\n",
    "\n",
    "show_pie(label, count_data, \"Status\")"
   ]
  },
  {
   "cell_type": "code",
   "execution_count": null,
   "metadata": {},
   "outputs": [],
   "source": []
  },
  {
   "cell_type": "code",
   "execution_count": null,
   "metadata": {},
   "outputs": [],
   "source": []
  },
  {
   "cell_type": "code",
   "execution_count": null,
   "metadata": {},
   "outputs": [],
   "source": []
  },
  {
   "cell_type": "code",
   "execution_count": null,
   "metadata": {},
   "outputs": [],
   "source": []
  },
  {
   "cell_type": "code",
   "execution_count": null,
   "metadata": {},
   "outputs": [],
   "source": []
  },
  {
   "cell_type": "code",
   "execution_count": null,
   "metadata": {},
   "outputs": [],
   "source": []
  },
  {
   "cell_type": "code",
   "execution_count": null,
   "metadata": {},
   "outputs": [],
   "source": []
  },
  {
   "cell_type": "code",
   "execution_count": null,
   "metadata": {},
   "outputs": [],
   "source": []
  },
  {
   "cell_type": "code",
   "execution_count": null,
   "metadata": {},
   "outputs": [],
   "source": []
  },
  {
   "cell_type": "code",
   "execution_count": 10,
   "metadata": {},
   "outputs": [],
   "source": [
    "from nltk.stem import PorterStemmer\n",
    "ps = PorterStemmer()\n",
    "\n",
    "def stemming_data(x):\n",
    "    return ps.stem(x)\n",
    "data['text'] = data['text'].apply(stemming_data)"
   ]
  },
  {
   "cell_type": "code",
   "execution_count": 20,
   "metadata": {},
   "outputs": [
    {
     "name": "stdout",
     "output_type": "stream",
     "text": [
      "hasil analisis data:\n",
      "positif = 45\n",
      "netral = 29\n",
      "negatif = 1340\n",
      "\n",
      "total : 1414\n"
     ]
    }
   ],
   "source": [
    "data_tweet = list(data['text'])\n",
    "polaritas = 0\n",
    "\n",
    "status = []\n",
    "total_positif = total_negatif = total_netral = total = 0\n",
    "for i, text in enumerate(data_tweet):\n",
    "    analysis = TextBlob(text)\n",
    "    polaritas += analysis.polarity\n",
    "    \n",
    "    if analysis.sentiment.polarity > 0.0:\n",
    "        total_positif += 1\n",
    "        status.append('positif')\n",
    "    elif analysis.sentiment.polarity == 0.0:\n",
    "        total_negatif += 1\n",
    "        status.append('negatif')\n",
    "    else:\n",
    "        total_netral += 1\n",
    "        status.append('netral')\n",
    "    \n",
    "    total += 1\n",
    "print(f'hasil analisis data:\\npositif = {total_positif}\\nnetral = {total_netral}\\nnegatif = {total_negatif}')\n",
    "print(f'\\ntotal : {total}')"
   ]
  },
  {
   "cell_type": "code",
   "execution_count": 14,
   "metadata": {},
   "outputs": [
    {
     "data": {
      "text/plain": [
       "negatif    727\n",
       "netral     392\n",
       "positif    295\n",
       "Name: label, dtype: int64"
      ]
     },
     "execution_count": 14,
     "metadata": {},
     "output_type": "execute_result"
    }
   ],
   "source": [
    "data['label'].value_counts()"
   ]
  },
  {
   "cell_type": "code",
   "execution_count": 24,
   "metadata": {},
   "outputs": [
    {
     "ename": "SyntaxError",
     "evalue": "invalid syntax (<ipython-input-24-c0f229de102b>, line 1)",
     "output_type": "error",
     "traceback": [
      "\u001b[1;36m  File \u001b[1;32m\"<ipython-input-24-c0f229de102b>\"\u001b[1;36m, line \u001b[1;32m1\u001b[0m\n\u001b[1;33m    data[label = 'negatif'].value_counts()\u001b[0m\n\u001b[1;37m               ^\u001b[0m\n\u001b[1;31mSyntaxError\u001b[0m\u001b[1;31m:\u001b[0m invalid syntax\n"
     ]
    }
   ],
   "source": [
    "data[label = 'negatif'].value_counts()"
   ]
  },
  {
   "cell_type": "code",
   "execution_count": 16,
   "metadata": {},
   "outputs": [],
   "source": [
    "from wordcloud import WordCloud, STOPWORDS\n",
    "\n",
    "def plot_cloud(wordcloud):\n",
    "    plt.figure(figsize=(12, 8))\n",
    "    plt.imshow(wordcloud)\n",
    "    plt.axis(\"off\")"
   ]
  },
  {
   "cell_type": "code",
   "execution_count": 17,
   "metadata": {},
   "outputs": [
    {
     "ename": "TypeError",
     "evalue": "__init__() got an unexpected keyword argument 'collactions'",
     "output_type": "error",
     "traceback": [
      "\u001b[1;31m---------------------------------------------------------------------------\u001b[0m",
      "\u001b[1;31mTypeError\u001b[0m                                 Traceback (most recent call last)",
      "\u001b[1;32m<ipython-input-17-ffcfe474e1e2>\u001b[0m in \u001b[0;36m<module>\u001b[1;34m\u001b[0m\n\u001b[0;32m      1\u001b[0m \u001b[0mall_words\u001b[0m \u001b[1;33m=\u001b[0m \u001b[1;34m' '\u001b[0m\u001b[1;33m.\u001b[0m\u001b[0mjoin\u001b[0m\u001b[1;33m(\u001b[0m\u001b[1;33m[\u001b[0m\u001b[0mtweets\u001b[0m \u001b[1;32mfor\u001b[0m \u001b[0mtweets\u001b[0m \u001b[1;32min\u001b[0m \u001b[0mdata\u001b[0m\u001b[1;33m[\u001b[0m\u001b[1;34m'text'\u001b[0m\u001b[1;33m]\u001b[0m\u001b[1;33m]\u001b[0m\u001b[1;33m)\u001b[0m\u001b[1;33m\u001b[0m\u001b[1;33m\u001b[0m\u001b[0m\n\u001b[1;32m----> 2\u001b[1;33m wordcloud = WordCloud(width = 3000, height = 2000, random_state=3, background_color='white',colormap='Set2', \n\u001b[0m\u001b[0;32m      3\u001b[0m                       collactions=False, stopwords = STOPWORDS).generate(all_words)\n\u001b[0;32m      4\u001b[0m \u001b[0mplot_cloud\u001b[0m\u001b[1;33m(\u001b[0m\u001b[0mwordcloud\u001b[0m\u001b[1;33m)\u001b[0m\u001b[1;33m\u001b[0m\u001b[1;33m\u001b[0m\u001b[0m\n",
      "\u001b[1;31mTypeError\u001b[0m: __init__() got an unexpected keyword argument 'collactions'"
     ]
    }
   ],
   "source": [
    "all_words = ' '.join([tweets for tweets in data['text']])\n",
    "wordcloud = WordCloud(width = 3000, height = 2000, random_state=3, background_color='white',colormap='Set2', \n",
    "                      collactions=False, stopwords = STOPWORDS).generate(all_words)\n",
    "plot_cloud(wordcloud)\n"
   ]
  },
  {
   "cell_type": "code",
   "execution_count": 22,
   "metadata": {},
   "outputs": [
    {
     "ename": "NameError",
     "evalue": "name 'positif' is not defined",
     "output_type": "error",
     "traceback": [
      "\u001b[1;31m---------------------------------------------------------------------------\u001b[0m",
      "\u001b[1;31mNameError\u001b[0m                                 Traceback (most recent call last)",
      "\u001b[1;32m<ipython-input-22-9740c634db38>\u001b[0m in \u001b[0;36m<module>\u001b[1;34m\u001b[0m\n\u001b[0;32m      1\u001b[0m \u001b[0mtotal_positif\u001b[0m \u001b[1;33m=\u001b[0m \u001b[0mtotal_negatif\u001b[0m \u001b[1;33m=\u001b[0m \u001b[0mtotal_netral\u001b[0m \u001b[1;33m=\u001b[0m \u001b[0mtotal\u001b[0m \u001b[1;33m=\u001b[0m \u001b[1;36m0\u001b[0m\u001b[1;33m\u001b[0m\u001b[1;33m\u001b[0m\u001b[0m\n\u001b[1;32m----> 2\u001b[1;33m \u001b[0mprint\u001b[0m\u001b[1;33m(\u001b[0m\u001b[1;34mf'hasil analisis data:\\npositif = {positif}\\nnetral = {netral}\\nnegatif = {negatif}'\u001b[0m\u001b[1;33m)\u001b[0m\u001b[1;33m\u001b[0m\u001b[1;33m\u001b[0m\u001b[0m\n\u001b[0m\u001b[0;32m      3\u001b[0m \u001b[0mprint\u001b[0m\u001b[1;33m(\u001b[0m\u001b[1;34mf'\\ntotal : {total}'\u001b[0m\u001b[1;33m)\u001b[0m\u001b[1;33m\u001b[0m\u001b[1;33m\u001b[0m\u001b[0m\n",
      "\u001b[1;31mNameError\u001b[0m: name 'positif' is not defined"
     ]
    }
   ],
   "source": [
    "total_positif = total_negatif = total_netral = total = 0\n",
    "print(f'hasil analisis data:\\npositif = {positif}\\nnetral = {netral}\\nnegatif = {negatif}')\n",
    "print(f'\\ntotal : {total}')"
   ]
  },
  {
   "cell_type": "code",
   "execution_count": null,
   "metadata": {},
   "outputs": [],
   "source": []
  },
  {
   "cell_type": "code",
   "execution_count": null,
   "metadata": {},
   "outputs": [],
   "source": []
  },
  {
   "cell_type": "code",
   "execution_count": null,
   "metadata": {},
   "outputs": [],
   "source": []
  },
  {
   "cell_type": "code",
   "execution_count": null,
   "metadata": {},
   "outputs": [],
   "source": []
  },
  {
   "cell_type": "code",
   "execution_count": null,
   "metadata": {},
   "outputs": [],
   "source": []
  },
  {
   "cell_type": "code",
   "execution_count": null,
   "metadata": {},
   "outputs": [],
   "source": []
  }
 ],
 "metadata": {
  "kernelspec": {
   "display_name": "Python 3",
   "language": "python",
   "name": "python3"
  },
  "language_info": {
   "codemirror_mode": {
    "name": "ipython",
    "version": 3
   },
   "file_extension": ".py",
   "mimetype": "text/x-python",
   "name": "python",
   "nbconvert_exporter": "python",
   "pygments_lexer": "ipython3",
   "version": "3.8.5"
  }
 },
 "nbformat": 4,
 "nbformat_minor": 4
}
